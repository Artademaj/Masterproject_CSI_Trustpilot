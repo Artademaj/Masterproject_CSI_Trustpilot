{
 "cells": [
  {
   "cell_type": "code",
   "execution_count": 1,
   "id": "a8532e1d",
   "metadata": {},
   "outputs": [
    {
     "name": "stdout",
     "output_type": "stream",
     "text": [
      "/Users/Arta/_Sentiment_Analysis\n"
     ]
    }
   ],
   "source": [
    "import os\n",
    "wd = os.getcwd() \n",
    "print(wd)\n",
    "\n",
    "import sqlalchemy\n",
    "from sqlalchemy import create_engine\n",
    "import pandas as pd\n",
    "import psycopg2\n",
    "import plotly.express as px\n",
    "import datetime\n",
    "import numpy as np\n",
    "import string\n",
    "from nltk import pos_tag\n",
    "from nltk.corpus import stopwords\n",
    "from nltk.tokenize import WhitespaceTokenizer\n",
    "from nltk.stem import WordNetLemmatizer\n",
    "from pathlib import Path\n",
    "from collections import Counter\n",
    "from fuzzywuzzy import fuzz"
   ]
  },
  {
   "cell_type": "code",
   "execution_count": 2,
   "id": "d571d109",
   "metadata": {},
   "outputs": [],
   "source": [
    "###Create database connection and read tables###\n",
    "engine = create_engine('postgresql://localhost/')\n",
    "\n",
    "#Read table reviews_food_beverages_tobacco from Database\n",
    "reviews_food_beverages_tobacco = pd.read_sql_table(\n",
    "    \"reviews_food_beverages_tobacco\",\n",
    "    con=engine\n",
    ")\n",
    "\n",
    "#Read table companies_list from Database\n",
    "companies_list = pd.read_sql_table(\n",
    "    \"list_companies\",\n",
    "    con=engine\n",
    ")\n"
   ]
  },
  {
   "cell_type": "code",
   "execution_count": 3,
   "id": "a65d0175",
   "metadata": {},
   "outputs": [],
   "source": [
    "companies_list.columns.values[1] = \"company_market\""
   ]
  },
  {
   "cell_type": "code",
   "execution_count": 4,
   "id": "76bf28d9",
   "metadata": {},
   "outputs": [],
   "source": [
    "reviews_food_beverages_tobacco.columns.values[0] = \"company_review\""
   ]
  },
  {
   "cell_type": "code",
   "execution_count": 5,
   "id": "8135faae",
   "metadata": {},
   "outputs": [
    {
     "data": {
      "text/html": [
       "<div>\n",
       "<style scoped>\n",
       "    .dataframe tbody tr th:only-of-type {\n",
       "        vertical-align: middle;\n",
       "    }\n",
       "\n",
       "    .dataframe tbody tr th {\n",
       "        vertical-align: top;\n",
       "    }\n",
       "\n",
       "    .dataframe thead th {\n",
       "        text-align: right;\n",
       "    }\n",
       "</style>\n",
       "<table border=\"1\" class=\"dataframe\">\n",
       "  <thead>\n",
       "    <tr style=\"text-align: right;\">\n",
       "      <th></th>\n",
       "      <th>company_review</th>\n",
       "      <th>category</th>\n",
       "      <th>total_reviews</th>\n",
       "      <th>general_rating</th>\n",
       "      <th>review_rating</th>\n",
       "      <th>review_text</th>\n",
       "    </tr>\n",
       "  </thead>\n",
       "  <tbody>\n",
       "    <tr>\n",
       "      <th>0</th>\n",
       "      <td>Epic Cellars</td>\n",
       "      <td>Wine Cellar</td>\n",
       "      <td>786</td>\n",
       "      <td>5</td>\n",
       "      <td>5</td>\n",
       "      <td>A very easy and pleasant experience. The whole...</td>\n",
       "    </tr>\n",
       "    <tr>\n",
       "      <th>1</th>\n",
       "      <td>Epic Cellars</td>\n",
       "      <td>Wine Cellar</td>\n",
       "      <td>786</td>\n",
       "      <td>5</td>\n",
       "      <td>5</td>\n",
       "      <td>Great customer service and communication. Made...</td>\n",
       "    </tr>\n",
       "    <tr>\n",
       "      <th>2</th>\n",
       "      <td>Epic Cellars</td>\n",
       "      <td>Wine Cellar</td>\n",
       "      <td>786</td>\n",
       "      <td>5</td>\n",
       "      <td>5</td>\n",
       "      <td>From the first time reaching out to them to th...</td>\n",
       "    </tr>\n",
       "    <tr>\n",
       "      <th>3</th>\n",
       "      <td>Epic Cellars</td>\n",
       "      <td>Wine Cellar</td>\n",
       "      <td>786</td>\n",
       "      <td>5</td>\n",
       "      <td>5</td>\n",
       "      <td>Highly recommend. Very easy to work with, and ...</td>\n",
       "    </tr>\n",
       "    <tr>\n",
       "      <th>4</th>\n",
       "      <td>Epic Cellars</td>\n",
       "      <td>Wine Cellar</td>\n",
       "      <td>786</td>\n",
       "      <td>5</td>\n",
       "      <td>5</td>\n",
       "      <td>We absolutely loved dealing with Epic Cellars!...</td>\n",
       "    </tr>\n",
       "    <tr>\n",
       "      <th>...</th>\n",
       "      <td>...</td>\n",
       "      <td>...</td>\n",
       "      <td>...</td>\n",
       "      <td>...</td>\n",
       "      <td>...</td>\n",
       "      <td>...</td>\n",
       "    </tr>\n",
       "    <tr>\n",
       "      <th>3277657</th>\n",
       "      <td>HelloFresh US</td>\n",
       "      <td>Online Food Ordering Service</td>\n",
       "      <td>38,695</td>\n",
       "      <td>4.4</td>\n",
       "      <td>1</td>\n",
       "      <td>I just want to say again. NO CUSTOMER SERVICE ...</td>\n",
       "    </tr>\n",
       "    <tr>\n",
       "      <th>3277658</th>\n",
       "      <td>HelloFresh US</td>\n",
       "      <td>Online Food Ordering Service</td>\n",
       "      <td>38,695</td>\n",
       "      <td>4.4</td>\n",
       "      <td>2</td>\n",
       "      <td>I tried Hello Fresh out of curiosity. I liked ...</td>\n",
       "    </tr>\n",
       "    <tr>\n",
       "      <th>3277659</th>\n",
       "      <td>HelloFresh US</td>\n",
       "      <td>Online Food Ordering Service</td>\n",
       "      <td>38,695</td>\n",
       "      <td>4.4</td>\n",
       "      <td>1</td>\n",
       "      <td>First time customer of Hello Fresh and came ho...</td>\n",
       "    </tr>\n",
       "    <tr>\n",
       "      <th>3277660</th>\n",
       "      <td>HelloFresh US</td>\n",
       "      <td>Online Food Ordering Service</td>\n",
       "      <td>38,695</td>\n",
       "      <td>4.4</td>\n",
       "      <td>2</td>\n",
       "      <td>My first box was great and I thought I would r...</td>\n",
       "    </tr>\n",
       "    <tr>\n",
       "      <th>3277661</th>\n",
       "      <td>HelloFresh US</td>\n",
       "      <td>Online Food Ordering Service</td>\n",
       "      <td>38,695</td>\n",
       "      <td>4.4</td>\n",
       "      <td>3</td>\n",
       "      <td>I loved HelloFresh after my first delivery. Yo...</td>\n",
       "    </tr>\n",
       "  </tbody>\n",
       "</table>\n",
       "<p>3277662 rows × 6 columns</p>\n",
       "</div>"
      ],
      "text/plain": [
       "        company_review                      category total_reviews  \\\n",
       "0         Epic Cellars                   Wine Cellar           786   \n",
       "1         Epic Cellars                   Wine Cellar           786   \n",
       "2         Epic Cellars                   Wine Cellar           786   \n",
       "3         Epic Cellars                   Wine Cellar           786   \n",
       "4         Epic Cellars                   Wine Cellar           786   \n",
       "...                ...                           ...           ...   \n",
       "3277657  HelloFresh US  Online Food Ordering Service        38,695   \n",
       "3277658  HelloFresh US  Online Food Ordering Service        38,695   \n",
       "3277659  HelloFresh US  Online Food Ordering Service        38,695   \n",
       "3277660  HelloFresh US  Online Food Ordering Service        38,695   \n",
       "3277661  HelloFresh US  Online Food Ordering Service        38,695   \n",
       "\n",
       "        general_rating review_rating  \\\n",
       "0                    5             5   \n",
       "1                    5             5   \n",
       "2                    5             5   \n",
       "3                    5             5   \n",
       "4                    5             5   \n",
       "...                ...           ...   \n",
       "3277657            4.4             1   \n",
       "3277658            4.4             2   \n",
       "3277659            4.4             1   \n",
       "3277660            4.4             2   \n",
       "3277661            4.4             3   \n",
       "\n",
       "                                               review_text  \n",
       "0        A very easy and pleasant experience. The whole...  \n",
       "1        Great customer service and communication. Made...  \n",
       "2        From the first time reaching out to them to th...  \n",
       "3        Highly recommend. Very easy to work with, and ...  \n",
       "4        We absolutely loved dealing with Epic Cellars!...  \n",
       "...                                                    ...  \n",
       "3277657  I just want to say again. NO CUSTOMER SERVICE ...  \n",
       "3277658  I tried Hello Fresh out of curiosity. I liked ...  \n",
       "3277659  First time customer of Hello Fresh and came ho...  \n",
       "3277660  My first box was great and I thought I would r...  \n",
       "3277661  I loved HelloFresh after my first delivery. Yo...  \n",
       "\n",
       "[3277662 rows x 6 columns]"
      ]
     },
     "execution_count": 5,
     "metadata": {},
     "output_type": "execute_result"
    }
   ],
   "source": [
    "companies_list.columns = companies_list.columns.to_series().apply(lambda x: x.strip())\n",
    "reviews_food_beverages_tobacco.columns = reviews_food_beverages_tobacco.columns.to_series().apply(lambda x: x.strip())\n",
    "reviews_food_beverages_tobacco"
   ]
  },
  {
   "cell_type": "code",
   "execution_count": 6,
   "id": "ba7bae12",
   "metadata": {},
   "outputs": [],
   "source": [
    "market_companies = companies_list[['company_market', 'subsidiaries', 'price']]"
   ]
  },
  {
   "cell_type": "code",
   "execution_count": null,
   "id": "9a2962ba",
   "metadata": {},
   "outputs": [],
   "source": [
    "market_companies"
   ]
  },
  {
   "cell_type": "code",
   "execution_count": null,
   "id": "05f82f98",
   "metadata": {},
   "outputs": [],
   "source": [
    "#Reviews data is sampled in order to speed up computations.\n",
    "#reviews_food_beverages_tobacco = reviews_food_beverages_tobacco.sample(frac = 0.01, replace = False, random_state=42)\n",
    "#list(reviews_food_beverages_tobacco)"
   ]
  },
  {
   "cell_type": "code",
   "execution_count": 7,
   "id": "f817ed08",
   "metadata": {},
   "outputs": [],
   "source": [
    "reviews_food_beverages_tobacco['first_10_letters'] = reviews_food_beverages_tobacco['company_review'].str[:10]\n",
    "\n",
    "reviews_food_beverages_tobacco['last_20_letters'] = reviews_food_beverages_tobacco['company_review'].str[-20:]\n",
    "\n",
    "reviews_food_beverages_tobacco.dropna(subset=['review_text'], inplace=True)"
   ]
  },
  {
   "cell_type": "code",
   "execution_count": 8,
   "id": "b10c31c0",
   "metadata": {},
   "outputs": [],
   "source": [
    "market_companies = market_companies[['company_market', 'subsidiaries', 'price']]\n",
    "market_companies['all_names'] = market_companies['company_market'].str.cat(companies_list['subsidiaries'],sep=\", \")\n",
    "market_companies.all_names.fillna(market_companies.company_market, inplace=True)\n",
    "\n"
   ]
  },
  {
   "cell_type": "code",
   "execution_count": 9,
   "id": "b99db527",
   "metadata": {},
   "outputs": [],
   "source": [
    "#define index\n",
    "market_companies.set_index('company_market')\n",
    "\n",
    "# split the strings into lists\n",
    "market_companies['all_names'] = market_companies['all_names'].str.split(', ')\n",
    "\n",
    "# explode the lists\n",
    "market_companies = market_companies.explode('all_names').reset_index(drop=True)\n",
    "#market_companies = market_companies.fillna(value=np.nan)\n",
    "\n",
    "#Test_Subset = market_companies.loc[(market_companies['company'] == 'Yum! Brands Inc')]\n",
    "#Test_Subset"
   ]
  },
  {
   "cell_type": "code",
   "execution_count": 10,
   "id": "d260ff46",
   "metadata": {},
   "outputs": [
    {
     "data": {
      "text/html": [
       "<div>\n",
       "<style scoped>\n",
       "    .dataframe tbody tr th:only-of-type {\n",
       "        vertical-align: middle;\n",
       "    }\n",
       "\n",
       "    .dataframe tbody tr th {\n",
       "        vertical-align: top;\n",
       "    }\n",
       "\n",
       "    .dataframe thead th {\n",
       "        text-align: right;\n",
       "    }\n",
       "</style>\n",
       "<table border=\"1\" class=\"dataframe\">\n",
       "  <thead>\n",
       "    <tr style=\"text-align: right;\">\n",
       "      <th></th>\n",
       "      <th>company_market</th>\n",
       "      <th>subsidiaries</th>\n",
       "      <th>price</th>\n",
       "      <th>all_names</th>\n",
       "      <th>first_10_letters</th>\n",
       "      <th>last_20_letters</th>\n",
       "    </tr>\n",
       "  </thead>\n",
       "  <tbody>\n",
       "    <tr>\n",
       "      <th>0</th>\n",
       "      <td>3M Company</td>\n",
       "      <td>None</td>\n",
       "      <td>222.89</td>\n",
       "      <td>3M Company</td>\n",
       "      <td>3M Company</td>\n",
       "      <td>3M Company</td>\n",
       "    </tr>\n",
       "    <tr>\n",
       "      <th>1</th>\n",
       "      <td>A.O. Smith Corp</td>\n",
       "      <td>None</td>\n",
       "      <td>60.24</td>\n",
       "      <td>A.O. Smith Corp</td>\n",
       "      <td>A.O. Smith</td>\n",
       "      <td>A.O. Smith Corp</td>\n",
       "    </tr>\n",
       "    <tr>\n",
       "      <th>2</th>\n",
       "      <td>Abbott Laboratories</td>\n",
       "      <td>None</td>\n",
       "      <td>56.27</td>\n",
       "      <td>Abbott Laboratories</td>\n",
       "      <td>Abbott Lab</td>\n",
       "      <td>Abbott Laboratories</td>\n",
       "    </tr>\n",
       "    <tr>\n",
       "      <th>3</th>\n",
       "      <td>AbbVie Inc.</td>\n",
       "      <td>None</td>\n",
       "      <td>108.48</td>\n",
       "      <td>AbbVie Inc.</td>\n",
       "      <td>AbbVie Inc</td>\n",
       "      <td>AbbVie Inc.</td>\n",
       "    </tr>\n",
       "    <tr>\n",
       "      <th>4</th>\n",
       "      <td>Accenture plc</td>\n",
       "      <td>None</td>\n",
       "      <td>150.51</td>\n",
       "      <td>Accenture plc</td>\n",
       "      <td>Accenture</td>\n",
       "      <td>Accenture plc</td>\n",
       "    </tr>\n",
       "    <tr>\n",
       "      <th>...</th>\n",
       "      <td>...</td>\n",
       "      <td>...</td>\n",
       "      <td>...</td>\n",
       "      <td>...</td>\n",
       "      <td>...</td>\n",
       "      <td>...</td>\n",
       "    </tr>\n",
       "    <tr>\n",
       "      <th>3209</th>\n",
       "      <td>Zions Bancorp</td>\n",
       "      <td>Amegy Bank of Texas, California Bank and Trust...</td>\n",
       "      <td>50.71</td>\n",
       "      <td>Nevada State Bank</td>\n",
       "      <td>Nevada Sta</td>\n",
       "      <td>Nevada State Bank</td>\n",
       "    </tr>\n",
       "    <tr>\n",
       "      <th>3210</th>\n",
       "      <td>Zions Bancorp</td>\n",
       "      <td>Amegy Bank of Texas, California Bank and Trust...</td>\n",
       "      <td>50.71</td>\n",
       "      <td>Vectra Bank Colorado</td>\n",
       "      <td>Vectra Ban</td>\n",
       "      <td>Vectra Bank Colorado</td>\n",
       "    </tr>\n",
       "    <tr>\n",
       "      <th>3211</th>\n",
       "      <td>Zions Bancorp</td>\n",
       "      <td>Amegy Bank of Texas, California Bank and Trust...</td>\n",
       "      <td>50.71</td>\n",
       "      <td>Zions Bank</td>\n",
       "      <td>Zions Bank</td>\n",
       "      <td>Zions Bank</td>\n",
       "    </tr>\n",
       "    <tr>\n",
       "      <th>3212</th>\n",
       "      <td>Zions Bancorp</td>\n",
       "      <td>Amegy Bank of Texas, California Bank and Trust...</td>\n",
       "      <td>50.71</td>\n",
       "      <td>Zions Direct</td>\n",
       "      <td>Zions Dire</td>\n",
       "      <td>Zions Direct</td>\n",
       "    </tr>\n",
       "    <tr>\n",
       "      <th>3213</th>\n",
       "      <td>Zoetis</td>\n",
       "      <td>None</td>\n",
       "      <td>71.51</td>\n",
       "      <td>Zoetis</td>\n",
       "      <td>Zoetis</td>\n",
       "      <td>Zoetis</td>\n",
       "    </tr>\n",
       "  </tbody>\n",
       "</table>\n",
       "<p>3131 rows × 6 columns</p>\n",
       "</div>"
      ],
      "text/plain": [
       "           company_market                                       subsidiaries  \\\n",
       "0              3M Company                                               None   \n",
       "1         A.O. Smith Corp                                               None   \n",
       "2     Abbott Laboratories                                               None   \n",
       "3             AbbVie Inc.                                               None   \n",
       "4           Accenture plc                                               None   \n",
       "...                   ...                                                ...   \n",
       "3209        Zions Bancorp  Amegy Bank of Texas, California Bank and Trust...   \n",
       "3210        Zions Bancorp  Amegy Bank of Texas, California Bank and Trust...   \n",
       "3211        Zions Bancorp  Amegy Bank of Texas, California Bank and Trust...   \n",
       "3212        Zions Bancorp  Amegy Bank of Texas, California Bank and Trust...   \n",
       "3213               Zoetis                                               None   \n",
       "\n",
       "       price             all_names first_10_letters       last_20_letters  \n",
       "0     222.89            3M Company       3M Company            3M Company  \n",
       "1      60.24       A.O. Smith Corp       A.O. Smith       A.O. Smith Corp  \n",
       "2      56.27   Abbott Laboratories       Abbott Lab   Abbott Laboratories  \n",
       "3     108.48           AbbVie Inc.       AbbVie Inc           AbbVie Inc.  \n",
       "4     150.51         Accenture plc       Accenture          Accenture plc  \n",
       "...      ...                   ...              ...                   ...  \n",
       "3209   50.71     Nevada State Bank       Nevada Sta     Nevada State Bank  \n",
       "3210   50.71  Vectra Bank Colorado       Vectra Ban  Vectra Bank Colorado  \n",
       "3211   50.71            Zions Bank       Zions Bank            Zions Bank  \n",
       "3212   50.71          Zions Direct       Zions Dire          Zions Direct  \n",
       "3213   71.51                Zoetis           Zoetis                Zoetis  \n",
       "\n",
       "[3131 rows x 6 columns]"
      ]
     },
     "execution_count": 10,
     "metadata": {},
     "output_type": "execute_result"
    }
   ],
   "source": [
    "market_companies['first_10_letters'] = market_companies['all_names'].str[:10]\n",
    "market_companies['last_20_letters'] = market_companies['all_names'].str[-20:]\n",
    "\n",
    "market_companies.drop_duplicates(subset='all_names', keep=\"last\")"
   ]
  },
  {
   "cell_type": "code",
   "execution_count": null,
   "id": "68a5dd01",
   "metadata": {},
   "outputs": [],
   "source": [
    "match_2_10 = list(market_companies.first_10_letters.unique())\n",
    "match_1_10 = list(reviews_food_beverages_tobacco.first_10_letters.unique())\n",
    "\n",
    "match_2_15 = list(market_companies.last_20_letters.unique())\n",
    "match_1_15 = list(reviews_food_beverages_tobacco.last_20_letters.unique())\n"
   ]
  },
  {
   "cell_type": "code",
   "execution_count": null,
   "id": "d03c897a",
   "metadata": {},
   "outputs": [],
   "source": [
    "def match_names(name, list_names, min_score=0):\n",
    "    #-1 we dont get any matches\n",
    "    max_score = -1\n",
    "    #returning empty name for no match\n",
    "    max_name = \"\"\n",
    "    #iternating over all names in the other\n",
    "    for x in list_names:\n",
    "        #finding fuzzy match score\n",
    "        score = fuzz.ratio(name, x)\n",
    "        #checking if we are above our threshold and have a better score\n",
    "        if (score>min_score)& (score>max_score):\n",
    "            max_name=x\n",
    "            max_score=score\n",
    "    return (max_name, max_score)"
   ]
  },
  {
   "cell_type": "code",
   "execution_count": null,
   "id": "b67f749e",
   "metadata": {},
   "outputs": [],
   "source": [
    "names= []\n",
    "for x in match_1_10:\n",
    "    match = match_names(x, match_2_10, 90)\n",
    "    if match[1] >=90:\n",
    "        name = ('(' + str(x), str(match[0]) +')')\n",
    "        names.append(name)\n",
    "name_dict_first = dict(names)\n",
    "\n",
    "name_dict_first\n"
   ]
  },
  {
   "cell_type": "code",
   "execution_count": null,
   "id": "48b40792",
   "metadata": {},
   "outputs": [],
   "source": [
    "names_2= []\n",
    "for x in match_1_15:\n",
    "    match = match_names(x, match_2_15, 90)\n",
    "    if match[1] >=90:\n",
    "        name_2 = ('(' + str(x), str(match[0]) +')')\n",
    "        names_2.append(name_2)\n",
    "name_dict_last = dict(names_2)\n",
    "\n",
    "name_dict_last"
   ]
  },
  {
   "cell_type": "code",
   "execution_count": null,
   "id": "260ec511",
   "metadata": {},
   "outputs": [],
   "source": [
    "first_10_letters_items = name_dict_first.items()\n",
    "first_10_letters_list = list(first_10_letters_items)\n",
    "first_10_letters_df = pd.DataFrame(first_10_letters_list)\n",
    "first_10_letters_df.columns = ['review_company_abbrev', 'exchange_company_abbrev']\n",
    "first_10_letters_df['review_company_abbrev'] = first_10_letters_df['review_company_abbrev'].str[1:] \n",
    "first_10_letters_df['exchange_company_abbrev'] = first_10_letters_df['exchange_company_abbrev'].str[:-1] \n",
    "first_10_letters_df\n",
    "\n"
   ]
  },
  {
   "cell_type": "code",
   "execution_count": null,
   "id": "f5faddb4",
   "metadata": {},
   "outputs": [],
   "source": [
    "last_20_letters_items = name_dict_last.items()\n",
    "last_20_letters_list = list(last_20_letters_items)\n",
    "last_20_letters_df = pd.DataFrame(last_20_letters_list)\n",
    "last_20_letters_df.columns = ['review_company_abbrev', 'exchange_company_abbrev']\n",
    "last_20_letters_df['review_company_abbrev'] = last_20_letters_df['review_company_abbrev'].str[1:] \n",
    "last_20_letters_df['exchange_company_abbrev'] = last_20_letters_df['exchange_company_abbrev'].str[:-1] \n",
    "last_20_letters_df"
   ]
  },
  {
   "cell_type": "code",
   "execution_count": null,
   "id": "febda325",
   "metadata": {},
   "outputs": [],
   "source": [
    "first_10_letters_reviews = pd.merge(first_10_letters_df, reviews_food_beverages_tobacco, left_on = 'review_company_abbrev', right_on = 'first_10_letters', how = 'inner')\n",
    "last_20_letters_reviews = pd.merge(last_20_letters_df, reviews_food_beverages_tobacco, left_on = 'review_company_abbrev', right_on = 'last_20_letters', how = 'inner')\n",
    "Merged_fuzzy_reviews = first_10_letters_reviews.append(last_20_letters_reviews, ignore_index=True)\n",
    "Merged_fuzzy_reviews\n"
   ]
  },
  {
   "cell_type": "code",
   "execution_count": null,
   "id": "548288e0",
   "metadata": {},
   "outputs": [],
   "source": [
    "out = []\n",
    "seen = set()\n",
    "for c in Merged_fuzzy_reviews['review_text']:\n",
    "    words = c.split()\n",
    "    out.append(' '.join([w for w in words if w not in seen]))\n",
    "    seen.update(words)\n",
    "\n",
    "Merged_fuzzy_reviews['Final_review_text'] = out\n",
    "Merged_fuzzy_reviews = Merged_fuzzy_reviews[Merged_fuzzy_reviews.Final_review_text != '']\n",
    "#Test_2 = Merged_fuzzy_reviews.loc[(Merged_fuzzy_reviews['company_review'] == 'Full Circle')]\n",
    "#Test_2\n"
   ]
  },
  {
   "cell_type": "code",
   "execution_count": null,
   "id": "287f61d1",
   "metadata": {},
   "outputs": [],
   "source": [
    "bigdata1 = pd.merge(Merged_fuzzy_reviews, market_companies, on = 'first_10_letters', how = 'left')\n",
    "\n",
    "bigdata = bigdata1[['company_review', 'company_market', 'subsidiaries','all_names','category', 'total_reviews', 'general_rating', 'review_rating', 'review_text', 'price']]\n",
    "bigdata.isna().sum()\n",
    "#bigdata"
   ]
  },
  {
   "cell_type": "code",
   "execution_count": null,
   "id": "b70a6626",
   "metadata": {},
   "outputs": [],
   "source": [
    "bigdata[\"total_reviews\"] = bigdata[\"total_reviews\"].str.replace(\",\",\"\").astype(float)\n",
    "\n",
    "#Set column as numeric\n",
    "bigdata['total_reviews'] = pd.to_numeric(bigdata['total_reviews'])\n",
    "bigdata['general_rating'] = pd.to_numeric(bigdata['general_rating'])\n",
    "bigdata['review_rating'] = pd.to_numeric(bigdata['review_rating'])\n"
   ]
  },
  {
   "cell_type": "code",
   "execution_count": null,
   "id": "de31b332",
   "metadata": {},
   "outputs": [],
   "source": [
    "import numpy as np\n",
    "bigdata['review_text'].replace('', np.nan, inplace=True)\n",
    "bigdata.dropna(subset=['review_text'], inplace=True)\n",
    "bigdata['review_text']= bigdata['review_text'].astype(str)\n",
    "\n"
   ]
  },
  {
   "cell_type": "code",
   "execution_count": null,
   "id": "56c5c8ad",
   "metadata": {},
   "outputs": [],
   "source": [
    "spec_chars = [\"!\",'\"',\"#\",\"%\",\"&\",\"'\",\"(\",\")\",\n",
    "              \"*\",\"+\",\",\",\"-\",\".\",\"/\",\":\",\";\",\"<\",\n",
    "              \"=\",\">\",\"?\",\"@\",\"[\",\"\\\\\",\"]\",\"^\",\"_\",\n",
    "              \"`\",\"{\",\"|\",\"}\",\"~\",\"–\"]\n",
    "for char in spec_chars:\n",
    "    bigdata['review_text'] = bigdata['review_text'].str.replace(char, ' ')\n",
    "    \n",
    "bigdata['review_text'] = bigdata['review_text'].str.split().str.join(\" \")\n"
   ]
  },
  {
   "cell_type": "code",
   "execution_count": null,
   "id": "c949c9eb",
   "metadata": {},
   "outputs": [],
   "source": [
    "def clean_text(text):\n",
    "    # lower text\n",
    "    text = text.lower()\n",
    "    # tokenize text and remove puncutation\n",
    "    text = [word.strip(string.punctuation) for word in text.split(\" \")]\n",
    "    # remove words that contain numbers\n",
    "    text = [word for word in text if not any(c.isdigit() for c in word)]\n",
    "    # remove stop words\n",
    "    stop = stopwords.words('english')\n",
    "    text = [x for x in text if x not in stop]\n",
    "    # remove empty tokens\n",
    "    text = [t for t in text if len(t) > 0]\n",
    "    # pos tag text\n",
    "    pos_tags = pos_tag(text)\n",
    "    # lemmatize text\n",
    "    #text = [WordNetLemmatizer().lemmatize(t[0], get_wordnet_pos(t[1])) for t in pos_tags]\n",
    "    # remove words with only one letter\n",
    "    text = [t for t in text if len(t) > 1]\n",
    "    # join all\n",
    "    text = \" \".join(text)\n",
    "    return(text)\n",
    "\n",
    "# clean text data\n",
    "bigdata[\"review_clean\"] = bigdata[\"review_text\"].apply(lambda x: clean_text(x))\n",
    "\n"
   ]
  },
  {
   "cell_type": "code",
   "execution_count": null,
   "id": "2715361b",
   "metadata": {},
   "outputs": [],
   "source": [
    "from collections import Counter\n",
    "all_names = bigdata['review_clean'].unique()\n",
    "names_freq = Counter()\n",
    "for name in all_names:\n",
    "    names_freq.update(str(name).split(\" \"))\n",
    "key_words = [word for (word,_) in names_freq.most_common(30)]\n",
    "print(key_words)\n"
   ]
  },
  {
   "cell_type": "code",
   "execution_count": null,
   "id": "b814789c",
   "metadata": {},
   "outputs": [],
   "source": [
    "# add sentiment anaylsis columns\n",
    "from nltk.sentiment.vader import SentimentIntensityAnalyzer\n",
    "\n",
    "sid = SentimentIntensityAnalyzer()\n",
    "bigdata[\"sentiments\"] = bigdata[\"review_clean\"].apply(lambda x: sid.polarity_scores(x))\n",
    "bigdata = pd.concat([bigdata.drop(['sentiments'], axis=1), bigdata['sentiments'].apply(pd.Series)], axis=1)\n"
   ]
  },
  {
   "cell_type": "code",
   "execution_count": null,
   "id": "86fbc232",
   "metadata": {},
   "outputs": [],
   "source": [
    "from afinn import Afinn\n",
    "afinn = Afinn(language='en')"
   ]
  },
  {
   "cell_type": "code",
   "execution_count": null,
   "id": "be3be269",
   "metadata": {},
   "outputs": [],
   "source": [
    "bigdata.head()"
   ]
  },
  {
   "cell_type": "code",
   "execution_count": null,
   "id": "436fca5a",
   "metadata": {},
   "outputs": [],
   "source": [
    "bigdata['afinn_score'] = bigdata['review_clean'].apply(afinn.score)\n",
    "\n"
   ]
  },
  {
   "cell_type": "code",
   "execution_count": null,
   "id": "e14454f7",
   "metadata": {},
   "outputs": [],
   "source": [
    "bigdata['afinn_score'].describe()"
   ]
  },
  {
   "cell_type": "code",
   "execution_count": null,
   "id": "1ba93d22",
   "metadata": {},
   "outputs": [],
   "source": [
    "columns_to_display = bigdata[['review_clean', 'afinn_score']]\n",
    "\n",
    "columns_to_display.sort_values(by='afinn_score').head(10)"
   ]
  },
  {
   "cell_type": "code",
   "execution_count": null,
   "id": "7d4a03c1",
   "metadata": {},
   "outputs": [],
   "source": [
    "columns_to_display.sort_values(by='afinn_score').tail(10)"
   ]
  },
  {
   "cell_type": "code",
   "execution_count": null,
   "id": "6241f487",
   "metadata": {},
   "outputs": [],
   "source": [
    "def word_count(text_string):\n",
    "    '''Calculate the number of words in a string'''\n",
    "    return len(text_string.split())\n",
    "\n",
    "bigdata['word_count'] = bigdata['review_clean'].apply(word_count)\n",
    "\n",
    "bigdata['word_count'].describe()"
   ]
  },
  {
   "cell_type": "code",
   "execution_count": null,
   "id": "4bbdd3bb",
   "metadata": {},
   "outputs": [],
   "source": [
    "bigdata['afinn_adjusted'] = bigdata['afinn_score'] / bigdata['word_count'] * 100\n",
    "bigdata['afinn_adjusted'].describe()\n",
    "\n"
   ]
  },
  {
   "cell_type": "code",
   "execution_count": null,
   "id": "c9f28102",
   "metadata": {},
   "outputs": [],
   "source": [
    "def count_occurences(text, word_list):\n",
    "    '''Count occurences of words from a list in a text string.'''\n",
    "    text_list = text_to_words(text)\n",
    "\n",
    "    intersection = [w for w in text_list if w in word_list]\n",
    "\n",
    "    return len(intersection)\n",
    "\n",
    "def text_to_words(text):\n",
    "    '''Transform a string to a list of words,\n",
    "    removing all punctuation.'''\n",
    "    text = text.lower()\n",
    "\n",
    "    p = '!\"#$%&\\'()*+,-./:;<=>?@[\\\\]^_`{|}~'\n",
    "    text = ''.join([ch for ch in text if ch not in p])\n",
    "\n",
    "    return text.split()"
   ]
  },
  {
   "cell_type": "code",
   "execution_count": null,
   "id": "5acd7ebd",
   "metadata": {},
   "outputs": [],
   "source": [
    "#Read table sustainability_words from Database\n",
    "sustainability_words = pd.read_sql_table(\n",
    "    \"sustainability_words\",\n",
    "    con=engine\n",
    ")"
   ]
  },
  {
   "cell_type": "code",
   "execution_count": null,
   "id": "e2d0c574",
   "metadata": {},
   "outputs": [],
   "source": [
    "social_words_list = sustainability_words['social_sustainability'].values\n",
    "\n",
    "bigdata['social_sustainability_words'] = bigdata['review_clean'].apply(count_occurences, args=(social_words_list, ))\n"
   ]
  },
  {
   "cell_type": "code",
   "execution_count": null,
   "id": "4c36290c",
   "metadata": {},
   "outputs": [],
   "source": [
    "environmental_words_list = sustainability_words['environmental_sustainability'].values\n",
    "\n",
    "bigdata['environmental_sustainability_words'] = bigdata['review_clean'].apply(count_occurences, args=(environmental_words_list, ))\n",
    "\n"
   ]
  },
  {
   "cell_type": "code",
   "execution_count": null,
   "id": "90070582",
   "metadata": {},
   "outputs": [],
   "source": [
    "economic_words_list = sustainability_words['economic_sustainability'].values\n",
    "\n",
    "bigdata['economic_sustainability_words'] = bigdata['review_clean'].apply(count_occurences, args=(economic_words_list, ))\n",
    "\n"
   ]
  },
  {
   "cell_type": "code",
   "execution_count": null,
   "id": "7ab4cfad",
   "metadata": {},
   "outputs": [],
   "source": [
    "sustainability_words = ['environmental_sustainability_words', 'economic_sustainability_words', 'social_sustainability_words']\n",
    "bigdata[sustainability_words].describe()\n"
   ]
  },
  {
   "cell_type": "code",
   "execution_count": null,
   "id": "0d2c67a0",
   "metadata": {},
   "outputs": [],
   "source": [
    "bigdata['social_sustainability_words'].value_counts()"
   ]
  },
  {
   "cell_type": "code",
   "execution_count": null,
   "id": "5093820e",
   "metadata": {},
   "outputs": [],
   "source": [
    "bigdata['economic_sustainability_words'].value_counts()"
   ]
  },
  {
   "cell_type": "code",
   "execution_count": null,
   "id": "e270db18",
   "metadata": {},
   "outputs": [],
   "source": [
    "bigdata['environmental_sustainability_words'].value_counts()"
   ]
  },
  {
   "cell_type": "code",
   "execution_count": null,
   "id": "e5a00545",
   "metadata": {},
   "outputs": [],
   "source": [
    "filter_bigdata = bigdata[(bigdata['social_sustainability_words'] >= 1) | (bigdata['environmental_sustainability_words'] >=1) \n",
    "                                              | (bigdata['economic_sustainability_words'] >=1)]\n",
    "filter_bigdata"
   ]
  },
  {
   "cell_type": "code",
   "execution_count": null,
   "id": "90a355f0",
   "metadata": {},
   "outputs": [],
   "source": [
    "\n",
    "filter_bigdata['total_sust_reviews'] = filter_bigdata.groupby(by='company_review')['company_review'].transform('count')\n",
    "\n",
    "filter_bigdata['total_environmental_reviews'] = filter_bigdata.groupby('company_review')['environmental_sustainability_words'].transform('sum')\n",
    "\n",
    "filter_bigdata['total_social_reviews'] = filter_bigdata.groupby('company_review')['social_sustainability_words'].transform('sum')\n",
    "filter_bigdata['total_economic_reviews'] = filter_bigdata.groupby('company_review')['economic_sustainability_words'].transform('sum')\n",
    "\n",
    "\n"
   ]
  },
  {
   "cell_type": "code",
   "execution_count": null,
   "id": "d240a01c",
   "metadata": {},
   "outputs": [],
   "source": [
    "def divide_two_cols(df_sub):\n",
    "    df_sub['Sustainability Index'] = df_sub['total_sust_reviews'] / (df_sub['total_reviews']) * 100\n",
    "    return df_sub\n",
    "\n",
    "\n",
    "filter_bigdata = filter_bigdata.groupby('company_review').apply(divide_two_cols)\n"
   ]
  },
  {
   "cell_type": "code",
   "execution_count": null,
   "id": "8082455d",
   "metadata": {},
   "outputs": [],
   "source": [
    "def ratio_division_social(df_sub):\n",
    "    df_sub['Social Index'] = df_sub['total_social_reviews'] / (df_sub['total_sust_reviews']) * 100\n",
    "    return df_sub\n",
    "\n",
    "filter_bigdata = filter_bigdata.groupby('company_review').apply(ratio_division_social)\n",
    "\n"
   ]
  },
  {
   "cell_type": "code",
   "execution_count": null,
   "id": "09d84970",
   "metadata": {},
   "outputs": [],
   "source": [
    "def ratio_division_environmental(df_sub):\n",
    "    df_sub['Environmental Index'] = df_sub['total_environmental_reviews'] / (df_sub['total_sust_reviews']) * 100\n",
    "    return df_sub\n",
    "\n",
    "filter_bigdata = filter_bigdata.groupby('company_review').apply(ratio_division_environmental)\n"
   ]
  },
  {
   "cell_type": "code",
   "execution_count": null,
   "id": "cf267453",
   "metadata": {},
   "outputs": [],
   "source": [
    "def ratio_division_economic(df_sub):\n",
    "    df_sub['Economic Index'] =  df_sub['total_economic_reviews'] / (df_sub['total_sust_reviews']) * 100\n",
    "    return df_sub\n",
    "filter_bigdata = filter_bigdata.groupby('company_review').apply(ratio_division_economic)\n"
   ]
  },
  {
   "cell_type": "code",
   "execution_count": null,
   "id": "28e492d8",
   "metadata": {},
   "outputs": [],
   "source": [
    "list(filter_bigdata)"
   ]
  },
  {
   "cell_type": "code",
   "execution_count": null,
   "id": "e81bb59d",
   "metadata": {},
   "outputs": [],
   "source": [
    "#Subset_Pizza = filter_bigdata.loc[(filter_bigdata['company_review'] == 'Pizza Hut')]\n",
    "#Subset_Pizza\n",
    "\n",
    "#for loop and in that groupby subs. \n",
    "#manually select subs. and create subset to calculate avg sust. index\n",
    "#or groupby company name and sub. together \n",
    "#df[['Dept', 'Sal']].groupby(['Dept', 'Sal']).size().reset_index(name='counts')"
   ]
  },
  {
   "cell_type": "code",
   "execution_count": null,
   "id": "3bab4de1",
   "metadata": {},
   "outputs": [],
   "source": [
    "final_df = filter_bigdata[['company_review', 'company_market','subsidiaries', 'all_names','category', 'total_reviews', \n",
    "                      'total_sust_reviews', 'Sustainability Index', \n",
    "                      'Social Index', 'Environmental Index', 'Economic Index', 'price']]\n",
    "\n",
    "final_df = final_df.drop_duplicates(subset='company_review', keep=\"last\")\n",
    "final_df"
   ]
  },
  {
   "cell_type": "code",
   "execution_count": null,
   "id": "5bfb61c5",
   "metadata": {},
   "outputs": [],
   "source": [
    "#check for which review company we have to calculate again the mean, since its a subsidiary\n",
    "find_duplicates = final_df[final_df['company_market'].duplicated(keep=False)]\n",
    "find_duplicates"
   ]
  },
  {
   "cell_type": "code",
   "execution_count": null,
   "id": "9ba8867c",
   "metadata": {},
   "outputs": [],
   "source": [
    "# Calulate the new mean for all parent companies \n",
    "find_duplicates['Avg Sustainability Index'] = find_duplicates['Sustainability Index'].groupby(find_duplicates['company_market']).transform('mean')\n",
    "find_duplicates['Avg Social Index'] = find_duplicates['Social Index'].groupby(find_duplicates['company_market']).transform('mean')\n",
    "find_duplicates['Avg Environmental Index'] = find_duplicates['Environmental Index'].groupby(find_duplicates['company_market']).transform('mean')\n",
    "find_duplicates['Avg Economic Index'] = find_duplicates['Economic Index'].groupby(find_duplicates['company_market']).transform('mean')\n",
    "\n",
    "find_duplicates = find_duplicates[['company_market', 'Avg Sustainability Index', 'Avg Social Index', 'Avg Environmental Index', 'Avg Economic Index']]\n",
    "find_duplicates\n"
   ]
  },
  {
   "cell_type": "code",
   "execution_count": null,
   "id": "1e1ef15d",
   "metadata": {},
   "outputs": [],
   "source": [
    "find_duplicates_final = pd.merge(find_duplicates, final_df, on = 'company_market', how = 'outer')\n",
    "\n",
    "find_duplicates_final = find_duplicates_final.drop_duplicates(subset=None, keep=\"first\", inplace=False)\n",
    "find_duplicates_final\n"
   ]
  },
  {
   "cell_type": "code",
   "execution_count": null,
   "id": "e65afc8f",
   "metadata": {},
   "outputs": [],
   "source": [
    "find_duplicates_final['Avg Sustainability Index'].fillna(find_duplicates_final['Sustainability Index'], inplace=True)\n",
    "find_duplicates_final['Avg Social Index'].fillna(find_duplicates_final['Social Index'], inplace=True)\n",
    "find_duplicates_final['Avg Environmental Index'].fillna(find_duplicates_final['Environmental Index'], inplace=True)\n",
    "find_duplicates_final['Avg Economic Index'].fillna(find_duplicates_final['Economic Index'], inplace=True)\n",
    "del find_duplicates_final['Sustainability Index']\n",
    "del find_duplicates_final['Social Index']\n",
    "del find_duplicates_final['Environmental Index']\n",
    "del find_duplicates_final['Economic Index']\n",
    "find_duplicates_final\n"
   ]
  },
  {
   "cell_type": "code",
   "execution_count": null,
   "id": "8a446ada",
   "metadata": {},
   "outputs": [],
   "source": [
    "find_duplicates_final['Avg Sustainability Index'] = pd.to_numeric(find_duplicates_final['Avg Sustainability Index'])\n",
    "#NEWDATA_Test5['Avg Social Index'] = pd.to_numeric(NEWDATA_Test5['Avg Sustainability Index'])\n",
    "#NEWDATA_Test5['Avg Environmental Index'] = pd.to_numeric(NEWDATA_Test5['Avg Sustainability Index'])\n",
    "#NEWDATA_Test5['Avg Economic Index'] = pd.to_numeric(NEWDATA_Test5['Avg Sustainability Index'])\n",
    "find_duplicates_final['price'] = pd.to_numeric(find_duplicates_final['price'])\n",
    "find_duplicates_final\n"
   ]
  },
  {
   "cell_type": "code",
   "execution_count": null,
   "id": "f21e137c",
   "metadata": {},
   "outputs": [],
   "source": [
    "find_duplicates_final = find_duplicates_final.drop_duplicates(subset='company_market', keep=\"last\")\n",
    "find_duplicates_final = find_duplicates_final[['company_market', 'Avg Sustainability Index', 'Avg Social Index', 'Avg Environmental Index', 'Avg Economic Index', 'price']]\n",
    "find_duplicates_final.round(2)\n",
    "reviews_food_beverages_tobacco_final = find_duplicates_final\n",
    "\n"
   ]
  },
  {
   "cell_type": "code",
   "execution_count": null,
   "id": "4e22f52d",
   "metadata": {},
   "outputs": [],
   "source": [
    "reviews_food_beverages_tobacco_final.to_sql('reviews_food_beverages_tobacco_final', engine)"
   ]
  },
  {
   "cell_type": "code",
   "execution_count": null,
   "id": "68784157",
   "metadata": {},
   "outputs": [],
   "source": [
    "find_duplicates_final.corr()\n",
    "find_duplicates_final.round(2)\n"
   ]
  },
  {
   "cell_type": "code",
   "execution_count": null,
   "id": "8d806156",
   "metadata": {},
   "outputs": [],
   "source": [
    "from sklearn.datasets import load_boston\n",
    "import pandas as pd\n",
    "from pandas import DataFrame\n",
    "import matplotlib.pyplot as plt\n",
    "%matplotlib inline\n",
    "from numpy import corrcoef\n",
    "import seaborn as sns"
   ]
  },
  {
   "cell_type": "code",
   "execution_count": null,
   "id": "1769e9ef",
   "metadata": {},
   "outputs": [],
   "source": [
    "# Allows for easy plotting of heatmaps\n",
    "import seaborn as sns"
   ]
  },
  {
   "cell_type": "code",
   "execution_count": null,
   "id": "d3192077",
   "metadata": {},
   "outputs": [],
   "source": [
    "sns.heatmap(find_duplicates_final.corr(), annot=True)\n",
    "plt.show()"
   ]
  },
  {
   "cell_type": "code",
   "execution_count": null,
   "id": "5e24dbf3",
   "metadata": {},
   "outputs": [],
   "source": []
  }
 ],
 "metadata": {
  "kernelspec": {
   "display_name": "Python 3",
   "language": "python",
   "name": "python3"
  },
  "language_info": {
   "codemirror_mode": {
    "name": "ipython",
    "version": 3
   },
   "file_extension": ".py",
   "mimetype": "text/x-python",
   "name": "python",
   "nbconvert_exporter": "python",
   "pygments_lexer": "ipython3",
   "version": "3.8.8"
  }
 },
 "nbformat": 4,
 "nbformat_minor": 5
}
