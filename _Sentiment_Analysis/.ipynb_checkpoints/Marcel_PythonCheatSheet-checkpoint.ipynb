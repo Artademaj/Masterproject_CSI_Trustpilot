{
 "cells": [
  {
   "cell_type": "markdown",
   "metadata": {},
   "source": [
    "#Python Cheatsheet"
   ]
  },
  {
   "cell_type": "code",
   "execution_count": 8,
   "metadata": {},
   "outputs": [],
   "source": [
    "#This cheat sheet consists of all of the function used so far during the Funda project."
   ]
  },
  {
   "cell_type": "markdown",
   "metadata": {},
   "source": [
    "SQL Connection"
   ]
  },
  {
   "cell_type": "code",
   "execution_count": 14,
   "metadata": {},
   "outputs": [],
   "source": [
    "#Create a connection with a database on your local laptop\n",
    "\n",
    "#engine = create_engine('postgresql://localhost/DATABASE') #Creates a connection to postgresql on your local device to a database called DATABASE\n",
    "\n",
    "#Read data from sql table\n",
    "#DATA = pd.read_sql_table(\"SQLtable\", con=engine) #Creates a new dataframe called DATA which consists of the data in a table named SQLtable"
   ]
  },
  {
   "cell_type": "markdown",
   "metadata": {},
   "source": [
    "Operators"
   ]
  },
  {
   "cell_type": "code",
   "execution_count": null,
   "metadata": {},
   "outputs": [],
   "source": [
    "#Operators used in Python\n",
    "\n",
    "# == Equal\n",
    "# != Not equal\n",
    "# > Greater than\n",
    "# < Less than\n",
    "# >= Greater than or equal to\n",
    "# <= Less than or equal to"
   ]
  },
  {
   "cell_type": "markdown",
   "metadata": {},
   "source": [
    "Data manupilation"
   ]
  },
  {
   "cell_type": "code",
   "execution_count": 12,
   "metadata": {},
   "outputs": [],
   "source": [
    "#Change datatypes\n",
    "\n",
    "#DATA['NumericColumn'] = pd.to_numeric(DATA['NumericColumn']) #Changes the datatype of the column NumericColumn of the dataset DATA to a numeric value.\n",
    "                                                              #Note: Numeric values are necessary to make calculations.\n",
    "                                                              #Note: requires pandas (see pd.)\n",
    "\n",
    "#DATA['DateColumn'] = pd.to_datetime(DATA['DateColumn'], format='%Y-%m-%d') #Changes the datatype of the column DateColumn of the dataset DATA to a datetime object.\n",
    "                                                         #NOTE: the format '%Y-%m-%d' expects the date to be set like 2020-12-31\n",
    "                                                         #NOTE: the format '%d-%m-%Y' expects the date to be set like 31-12-2020\n",
    "                                                         #NOTE: the format '%m-%d-%Y' expects the date to be set like 12-31-2020 \n",
    "                                                         #NOTE: the format '%Y/%m/%d' expects the date to be set like 2020/12/31"
   ]
  },
  {
   "cell_type": "code",
   "execution_count": 13,
   "metadata": {},
   "outputs": [],
   "source": [
    "#Add a new column\n",
    "\n",
    "#DATA['NewColumn'] = DATA['COLUMN1'] - DATA['COLUMN3'] #Creates a new column in the dataset DATA called NewColumn. The value is the subtraction of COLUMN1 - COLUMN3\n",
    "\n",
    "#DATA['NewColumn'] = DATA['COLUMN1'].str[1:] #Creates a new column in the dataset DATA called NewColumn selecting everything from the second digit/character.\n",
    "#DATA['NewColumn'] = DATA['COLUMN1'].str[-1:] #Creates a new column in the dataset DATA called NewColumn selecting the last digit/character.\n"
   ]
  },
  {
   "cell_type": "code",
   "execution_count": 10,
   "metadata": {},
   "outputs": [],
   "source": [
    "#Change column names\n",
    "\n",
    "#DATA.columns.values[0] = \"Municipality\" #Changes the name of the first column of the dataset DATA to Municipality\n",
    "#DATA.columns.values[1] = \"Municipality\" #Changes the name of the second column of the dataset DATA to Municipality\n",
    "\n",
    "#Note: Python starts counting from 0. First column = 0, First row = 0."
   ]
  },
  {
   "cell_type": "code",
   "execution_count": 9,
   "metadata": {},
   "outputs": [],
   "source": [
    "#Delete duplicate values (same values in multiple rows)\n",
    "\n",
    "#DATA = DATA.drop_duplicates(subset=None, keep=\"first\", inplace=False) #Deletes the duplicate values in a dataset called DATA and keeps the first of the duplicate values.\n",
    "                                                                       #Subset defines the column where you want to remove the duplicates from."
   ]
  },
  {
   "cell_type": "code",
   "execution_count": null,
   "metadata": {},
   "outputs": [],
   "source": [
    "#Remove whitespace from a column (Whitespace is space after/before a string (spaces after the value))\n",
    "\n",
    "#DATA['Column1'] = DATA['Column1'].str.strip() #Removes the whitespace after the values in the column Column1 in the dataset DATA.\n"
   ]
  },
  {
   "cell_type": "markdown",
   "metadata": {},
   "source": [
    "Create a subset"
   ]
  },
  {
   "cell_type": "code",
   "execution_count": 7,
   "metadata": {},
   "outputs": [],
   "source": [
    "#Create a subset of specific columns from a dataframe DATA\n",
    "\n",
    "#DATA1 = DATA[['Columnname1', 'Columnname2', 'Columnname5']] #Creates a subset named DATA1 with only the columns Columnname1, Columnname2 and Columnname5"
   ]
  },
  {
   "cell_type": "code",
   "execution_count": null,
   "metadata": {},
   "outputs": [],
   "source": [
    "#Create a subset based on a condition !!! #Will be used very often\n",
    "\n",
    "#Subset = DATA.loc[(DATA['Column'] == 'Condition')] #Creates a subset called Subset from a dataframe called DATA based on the condition where column == 'condition'.\n",
    "                                                    #Note: '' are used for strings.\n",
    "    \n",
    "#Subset = DATA.loc[(DATA['Column'] == Condition)] #Creates a subset called Subset from a dataframe called DATA based on the condition where the column == value.\n",
    "                                                  #Note: When no '' are used, Python expects a numeric value.  \n",
    "\n",
    "#Subset = DATA.loc[(DATA['Column'] != 'Condition')] #Creates a subset called Subset from a dataframe called DATA based on where the values are not equal to the condition."
   ]
  },
  {
   "cell_type": "markdown",
   "metadata": {},
   "source": [
    "Joining dataframes ##IMPORTANT"
   ]
  },
  {
   "cell_type": "code",
   "execution_count": 16,
   "metadata": {},
   "outputs": [],
   "source": [
    "#Merge dataframes \n",
    "\n",
    "#NEWDATA = pd.merge(Dataset1, Dataset2, left_on = 'column1', right_on = 'column2', how = 'inner') #Inner joins dataframes Dataset1 and Dataset2 based on the columns specified.\n",
    "#NEWDATA = pd.merge(Dataset1, Dataset2, left_on = 'column1', right_on = 'column2', how = 'left') #Left joins dataframes Dataset1 and Dataset2 based on the columns specified.\n",
    "#NEWDATA = pd.merge(Dataset1, Dataset2, left_on = 'column1', right_on = 'column2', how = 'right') #Right joins dataframes Dataset1 and Dataset2 based on the columns specified.\n",
    "#NEWDATA = pd.merge(Dataset1, Dataset2, left_on = 'column1', right_on = 'column2', how = 'outer') #Outer joins dataframes Dataset1 and Dataset2 based on the columns specified.\n",
    "\n",
    "#NEWDATA = pd.merge(Dataset1, Dataset2, on = 'Column', how = 'inner') #Inner joins dataframes Dataset1 and Dataset2 based on the column Column which should be the same in both dataframes.\n",
    "\n",
    "#Merge dataframes with the same columns\n",
    "#NEWDATA = pd.concat([DATA1, DATA2, DATA3, DATA4]) #If datasets have the same columns we can use concat to put them under each other.\n",
    "\n",
    "#Note: Requires the package pandas (see pd.)\n",
    "#NOTE: For more information regarding joins, visit the documentation:\n",
    "#https://pandas.pydata.org/pandas-docs/stable/user_guide/merging.html"
   ]
  },
  {
   "cell_type": "markdown",
   "metadata": {},
   "source": [
    "GROUPBY ##IMPORTANT"
   ]
  },
  {
   "cell_type": "code",
   "execution_count": 15,
   "metadata": {},
   "outputs": [],
   "source": [
    "#GroupedData = DATA[['CategoricalVariable', 'NumericVariable']] #Selects a categorical and a numerical column from the dataset DATA (as mentioned above)\n",
    "#GroupedData = GroupedData.groupby(['CategoricalVariable']).mean() #Groups the data per value from the categorical value and calculates the mean per category.\n",
    "\n",
    "#GroupedData = GroupedData.groupby(['CategoricalVariable']).agg({'NumericVariable': ['mean', 'min', 'max']}) #Groups the data per category and calculates the mean, the minimal and the maximal value.\n",
    "\n",
    "#Note: Requires the package pandas\n",
    "#NOTE: For more information regarding the groupby function, visit the documentation:\n",
    "#https://pandas.pydata.org/pandas-docs/stable/reference/api/pandas.DataFrame.groupby.html"
   ]
  },
  {
   "cell_type": "code",
   "execution_count": null,
   "metadata": {},
   "outputs": [],
   "source": []
  }
 ],
 "metadata": {
  "kernelspec": {
   "display_name": "Python 3",
   "language": "python",
   "name": "python3"
  },
  "language_info": {
   "codemirror_mode": {
    "name": "ipython",
    "version": 3
   },
   "file_extension": ".py",
   "mimetype": "text/x-python",
   "name": "python",
   "nbconvert_exporter": "python",
   "pygments_lexer": "ipython3",
   "version": "3.8.8"
  }
 },
 "nbformat": 4,
 "nbformat_minor": 4
}
